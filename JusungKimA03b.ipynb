{
 "cells": [
  {
   "cell_type": "code",
   "execution_count": 14,
   "metadata": {},
   "outputs": [],
   "source": [
    "import abc\n",
    "from abc import ABC\n",
    "\n",
    "class Student(ABC):\n",
    "  '''The abstract class of all Student'''\n",
    "\n",
    "  def __init__(self, first_name, last_name, stu_ID):\n",
    "    '''Create a student based on the first name, last name, and student ID\n",
    "    \n",
    "    keyword arguments:\n",
    "    first_name(str)  -- the first name of the student\n",
    "    last_name(str)   -- the last name of the student\n",
    "    stu_ID(str)      -- the string ID of the student\n",
    "    '''\n",
    "    self.first_name, self.last_name, self.stu_ID = first_name, last_name, stu_ID\n",
    "    \n",
    "  @abc.abstractclassmethod\n",
    "  def pay(): \n",
    "    '''Abstract method - need implementation by subclasses'''\n",
    "    pass\n",
    "\n",
    "  @abc.abstractclassmethod\n",
    "  def __repr__(self):\n",
    "    '''Abstract method - need implementation by subclasses'''\n",
    "    pass  \n",
    "\n",
    "  @abc.abstractclassmethod\n",
    "  def intro(self):\n",
    "    '''Abstract method - need implementation by subclasse'''\n",
    "    pass "
   ]
  },
  {
   "cell_type": "code",
   "execution_count": 21,
   "metadata": {},
   "outputs": [],
   "source": [
    "class Student_Not_Working(Student):\n",
    "    '''The class of all students not working'''\n",
    "    def pay(self): \n",
    "        '''The payment amount will be zero'''\n",
    "        self.pay = 0\n",
    "\n",
    "    def __repr__(self):\n",
    "    return '${}'.format(self.get_value()//100)\n",
    "    \n",
    "    def intro(self):\n",
    "        '''Implemented introduction of a bill instance'''\n",
    "        return 'A bill with ${}'.format(self.get_value()//100)"
   ]
  },
  {
   "cell_type": "code",
   "execution_count": 22,
   "metadata": {},
   "outputs": [
    {
     "name": "stdout",
     "output_type": "stream",
     "text": [
      "None\n"
     ]
    }
   ],
   "source": [
    "stu1 = Student_Not_Working('Di', 'Wu', '0001')\n",
    "print(stu1.pay())"
   ]
  }
 ],
 "metadata": {
  "kernelspec": {
   "display_name": "Python 3",
   "language": "python",
   "name": "python3"
  },
  "language_info": {
   "codemirror_mode": {
    "name": "ipython",
    "version": 3
   },
   "file_extension": ".py",
   "mimetype": "text/x-python",
   "name": "python",
   "nbconvert_exporter": "python",
   "pygments_lexer": "ipython3",
   "version": "3.11.1"
  },
  "orig_nbformat": 4,
  "vscode": {
   "interpreter": {
    "hash": "1de1c4cde47d3628d9ef487bdef48f68f997c094a9074e49412d9287e60e8c0d"
   }
  }
 },
 "nbformat": 4,
 "nbformat_minor": 2
}
